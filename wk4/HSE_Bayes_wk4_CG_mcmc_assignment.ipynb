{
  "nbformat": 4,
  "nbformat_minor": 0,
  "metadata": {
    "kernelspec": {
      "display_name": "Python 3",
      "language": "python",
      "name": "python3"
    },
    "language_info": {
      "codemirror_mode": {
        "name": "ipython",
        "version": 3
      },
      "file_extension": ".py",
      "mimetype": "text/x-python",
      "name": "python",
      "nbconvert_exporter": "python",
      "pygments_lexer": "ipython3",
      "version": "3.6.7"
    },
    "colab": {
      "name": "HSE_Bayes_wk4_CG_mcmc_assignment.ipynb",
      "provenance": [],
      "collapsed_sections": []
    }
  },
  "cells": [
    {
      "cell_type": "markdown",
      "metadata": {
        "id": "aMIxkpo90rhk",
        "colab_type": "text"
      },
      "source": [
        "# First things first\n",
        "Click **File -> Save a copy in Drive** and click **Open in new tab** in the pop-up window to save your progress in Google Drive."
      ]
    },
    {
      "cell_type": "markdown",
      "metadata": {
        "id": "-0F81SVr0rhm",
        "colab_type": "text"
      },
      "source": [
        "# Using PyMC3"
      ]
    },
    {
      "cell_type": "markdown",
      "metadata": {
        "id": "lJMg9sdP0rhn",
        "colab_type": "text"
      },
      "source": [
        "In this assignment, we will learn how to use a library for probabilistic programming and inference called <a href=\"http://docs.pymc.io/\">PyMC3</a>."
      ]
    },
    {
      "cell_type": "markdown",
      "metadata": {
        "id": "RxIYjS7x0rho",
        "colab_type": "text"
      },
      "source": [
        "### Setup\n",
        "Loading auxiliary files and importing the necessary libraries."
      ]
    },
    {
      "cell_type": "code",
      "metadata": {
        "id": "n5IIY5LQ0rhp",
        "colab_type": "code",
        "colab": {
          "base_uri": "https://localhost:8080/",
          "height": 269
        },
        "outputId": "a9e048f5-e371-43a4-f197-33805225deaa"
      },
      "source": [
        "try:\n",
        "    import google.colab\n",
        "    IN_COLAB = True\n",
        "except:\n",
        "    IN_COLAB = False\n",
        "if IN_COLAB:\n",
        "    print(\"Downloading Colab files\")\n",
        "    ! shred -u setup_google_colab.py\n",
        "    ! wget https://raw.githubusercontent.com/hse-aml/bayesian-methods-for-ml/master/setup_google_colab.py -O setup_google_colab.py\n",
        "    import setup_google_colab\n",
        "    setup_google_colab.load_data_week4()"
      ],
      "execution_count": 1,
      "outputs": [
        {
          "output_type": "stream",
          "text": [
            "Downloading Colab files\n",
            "shred: setup_google_colab.py: failed to open for writing: No such file or directory\n",
            "--2020-01-03 05:35:49--  https://raw.githubusercontent.com/hse-aml/bayesian-methods-for-ml/master/setup_google_colab.py\n",
            "Resolving raw.githubusercontent.com (raw.githubusercontent.com)... 151.101.0.133, 151.101.64.133, 151.101.128.133, ...\n",
            "Connecting to raw.githubusercontent.com (raw.githubusercontent.com)|151.101.0.133|:443... connected.\n",
            "HTTP request sent, awaiting response... 200 OK\n",
            "Length: 1254 (1.2K) [text/plain]\n",
            "Saving to: ‘setup_google_colab.py’\n",
            "\n",
            "setup_google_colab. 100%[===================>]   1.22K  --.-KB/s    in 0s      \n",
            "\n",
            "2020-01-03 05:35:55 (248 MB/s) - ‘setup_google_colab.py’ saved [1254/1254]\n",
            "\n",
            "https://raw.githubusercontent.com/hse-aml/bayesian-methods-for-ml/master/week4/w4_grader.py w4_grader.py\n",
            "https://raw.githubusercontent.com/hse-aml/bayesian-methods-for-ml/master/week4/adult_us_postprocessed.csv adult_us_postprocessed.csv\n"
          ],
          "name": "stdout"
        }
      ]
    },
    {
      "cell_type": "code",
      "metadata": {
        "id": "TqZKz38_0rhr",
        "colab_type": "code",
        "colab": {
          "base_uri": "https://localhost:8080/",
          "height": 34
        },
        "outputId": "8c47779a-ec5f-4850-b854-4f132eca7f9d"
      },
      "source": [
        "import numpy as np\n",
        "import pandas as pd\n",
        "import numpy.random as rnd\n",
        "import seaborn as sns\n",
        "from matplotlib import animation\n",
        "import pymc3 as pm\n",
        "from w4_grader import MCMCGrader\n",
        "%pylab inline"
      ],
      "execution_count": 2,
      "outputs": [
        {
          "output_type": "stream",
          "text": [
            "Populating the interactive namespace from numpy and matplotlib\n"
          ],
          "name": "stdout"
        }
      ]
    },
    {
      "cell_type": "markdown",
      "metadata": {
        "id": "kkvUlZQm0rhu",
        "colab_type": "text"
      },
      "source": [
        "### Grading\n",
        "We will create a grader instance below and use it to collect your answers. Note that these outputs will be stored locally inside grader and will be uploaded to the platform only after running submitting function in the last part of this assignment. If you want to make a partial submission, you can run that cell anytime you want."
      ]
    },
    {
      "cell_type": "code",
      "metadata": {
        "id": "tVGH3WOS0rhu",
        "colab_type": "code",
        "colab": {}
      },
      "source": [
        "grader = MCMCGrader()"
      ],
      "execution_count": 0,
      "outputs": []
    },
    {
      "cell_type": "markdown",
      "metadata": {
        "id": "hwbLeqgn0rhx",
        "colab_type": "text"
      },
      "source": [
        "## Task 1. Alice and Bob\n",
        "\n",
        "Alice and Bob are trading on the market. Both of them are selling the Thing and want to get as high profit as possible.\n",
        "Every hour they check out with each other's prices and adjust their prices to compete on the market. Although they have different strategies for price setting.\n",
        "\n",
        "**Alice**: takes Bob's price during the **previous** hour, multiply by 0.6, add \\\\$90, add Gaussian noise from $N(0, 20^2)$.\n",
        "\n",
        "**Bob**: takes Alice's price during the **current** hour, multiply by 1.2 and subtract \\\\$20, add Gaussian noise from $N(0, 10^2)$.\n",
        "\n",
        "The problem is to find the joint distribution of Alice and Bob's prices after many hours of such an experiment."
      ]
    },
    {
      "cell_type": "markdown",
      "metadata": {
        "id": "-TcfNFhW0rhy",
        "colab_type": "text"
      },
      "source": [
        "### Task 1.1\n",
        "\n",
        "Implement the `run_simulation` function according to the description above. "
      ]
    },
    {
      "cell_type": "code",
      "metadata": {
        "id": "lJ9qoV790rhz",
        "colab_type": "code",
        "colab": {}
      },
      "source": [
        "def run_simulation(alice_start_price=300.0, bob_start_price=300.0, seed=42, num_hours=10000, burnin=1000):\n",
        "    \"\"\"Simulates an evolution of prices set by Bob and Alice.\n",
        "    \n",
        "    The function should simulate Alice and Bob behavior for `burnin' hours, then ignore the obtained\n",
        "    simulation results, and then simulate it for `num_hours' more.\n",
        "    The initial burnin (also sometimes called warmup) is done to make sure that the distribution stabilized.\n",
        "    \n",
        "    Please don't change the signature of the function.\n",
        "    \n",
        "    Returns:\n",
        "        two lists, with Alice and with Bob prices. Both lists should be of length num_hours.\n",
        "    \"\"\"\n",
        "    np.random.seed(seed)\n",
        "\n",
        "    alice_prices = [alice_start_price]\n",
        "    bob_prices = [bob_start_price]\n",
        "    \n",
        "    #### YOUR CODE HERE ####\n",
        "    for i in range(num_hours):\n",
        "      alice_price = bob_prices[-1]*0.6 + 90 + np.random.normal(loc=0, scale=20)\n",
        "      bob_price = alice_price *1.2 -20 + np.random.normal(loc=0, scale=10)\n",
        "      alice_prices.append(alice_price)\n",
        "      bob_prices.append(bob_price)\n",
        "    ### END OF YOUR CODE ###\n",
        "    \n",
        "    return alice_prices[burnin:], bob_prices[burnin:]"
      ],
      "execution_count": 0,
      "outputs": []
    },
    {
      "cell_type": "code",
      "metadata": {
        "id": "LsGuDmQD0rh1",
        "colab_type": "code",
        "colab": {
          "base_uri": "https://localhost:8080/",
          "height": 50
        },
        "outputId": "cba54729-18fb-4a57-b4f1-4899baeeeff7"
      },
      "source": [
        "alice_prices, bob_prices = run_simulation(alice_start_price=300, bob_start_price=300, seed=42, num_hours=3, burnin=1)\n",
        "if len(alice_prices) != 3:\n",
        "    raise RuntimeError('Make sure that the function returns `num_hours` data points.')\n",
        "grader.submit_simulation_trajectory(alice_prices, bob_prices)"
      ],
      "execution_count": 9,
      "outputs": [
        {
          "output_type": "stream",
          "text": [
            "Current answer for task 1.1 (Alice trajectory) is: 279.93428306022463  291.67686875834846\n",
            "Current answer for task 1.1 (Bob trajectory) is: 314.5384966605577  345.2425410740984\n"
          ],
          "name": "stdout"
        }
      ]
    },
    {
      "cell_type": "markdown",
      "metadata": {
        "id": "EXLgh-JS0rh3",
        "colab_type": "text"
      },
      "source": [
        "### Task 1.2\n",
        "What is the average price for Alice and Bob after the burn-in period? Whose prices are higher?"
      ]
    },
    {
      "cell_type": "code",
      "metadata": {
        "id": "uMg8VKOg0rh4",
        "colab_type": "code",
        "colab": {
          "base_uri": "https://localhost:8080/",
          "height": 50
        },
        "outputId": "1f85e19f-f221-4f49-93a9-bad84df5d0a2"
      },
      "source": [
        "#### YOUR CODE HERE ####\n",
        "alice_prices, bob_prices = run_simulation()\n",
        "average_alice_price = np.mean(alice_prices)\n",
        "average_bob_price = np.mean(bob_prices)\n",
        "### END OF YOUR CODE ###\n",
        "grader.submit_simulation_mean(average_alice_price, average_bob_price)"
      ],
      "execution_count": 12,
      "outputs": [
        {
          "output_type": "stream",
          "text": [
            "Current answer for task 1.2 (Alice mean) is: 278.62821295463834\n",
            "Current answer for task 1.2 (Bob mean) is: 314.37642287694996\n"
          ],
          "name": "stdout"
        }
      ]
    },
    {
      "cell_type": "markdown",
      "metadata": {
        "id": "npyac2oD0rh8",
        "colab_type": "text"
      },
      "source": [
        "### Task 1.3\n",
        "\n",
        "Let's look at the 2-d histogram of prices, computed using kernel density estimation."
      ]
    },
    {
      "cell_type": "code",
      "metadata": {
        "id": "XDLCnAsn0rh8",
        "colab_type": "code",
        "colab": {
          "base_uri": "https://localhost:8080/",
          "height": 458
        },
        "outputId": "a05d055d-571c-4d4c-9808-49a16cbbd778"
      },
      "source": [
        "data = np.array(run_simulation())\n",
        "sns.jointplot(data[0, :], data[1, :], stat_func=None, kind='kde')"
      ],
      "execution_count": 13,
      "outputs": [
        {
          "output_type": "execute_result",
          "data": {
            "text/plain": [
              "<seaborn.axisgrid.JointGrid at 0x7fa823bd8da0>"
            ]
          },
          "metadata": {
            "tags": []
          },
          "execution_count": 13
        },
        {
          "output_type": "display_data",
          "data": {
            "image/png": "[encoded data removed]",
            "text/plain": [
              "<Figure size 432x432 with 3 Axes>"
            ]
          },
          "metadata": {
            "tags": []
          }
        }
      ]
    },
    {
      "cell_type": "markdown",
      "metadata": {
        "id": "8Q109zhM0rh-",
        "colab_type": "text"
      },
      "source": [
        "Clearly, the prices of Bob and Alce are highly correlated. What is the Pearson correlation coefficient of Alice and Bob prices?"
      ]
    },
    {
      "cell_type": "code",
      "metadata": {
        "id": "eMGuPNz30rh_",
        "colab_type": "code",
        "colab": {
          "base_uri": "https://localhost:8080/",
          "height": 34
        },
        "outputId": "da1d9bda-ab0b-4a49-970b-38532da38440"
      },
      "source": [
        "#### YOUR CODE HERE ####\n",
        "correlation = np.corrcoef(data[0, :], data[1, :])[0][1]\n",
        "### END OF YOUR CODE ###\n",
        "grader.submit_simulation_correlation(correlation)"
      ],
      "execution_count": 15,
      "outputs": [
        {
          "output_type": "stream",
          "text": [
            "Current answer for task 1.3 (Bob and Alice prices correlation) is: 0.9636340025161768\n"
          ],
          "name": "stdout"
        }
      ]
    },
    {
      "cell_type": "markdown",
      "metadata": {
        "id": "exu8yEwk0riB",
        "colab_type": "text"
      },
      "source": [
        "### Task 1.4"
      ]
    },
    {
      "cell_type": "markdown",
      "metadata": {
        "id": "NGwSoV_H0riC",
        "colab_type": "text"
      },
      "source": [
        "We observe an interesting effect here: seems like the bivariate distribution of Alice and Bob prices converges to a correlated bivariate Gaussian distribution.\n",
        "\n",
        "Let's check, whether the results change if we use different random seed and starting points."
      ]
    },
    {
      "cell_type": "code",
      "metadata": {
        "id": "Rfq28kyI97op",
        "colab_type": "code",
        "colab": {
          "base_uri": "https://localhost:8080/",
          "height": 118
        },
        "outputId": "a7d94429-99b6-44c2-ca53-272f844ad2e5"
      },
      "source": [
        "for (ap, bp) in ((1, 10,), (10, 100), (100, 1000)):\n",
        "    data_tmp = np.array(run_simulation(alice_start_price=ap, bob_start_price=bp))\n",
        "    print(np.corrcoef(data_tmp[0, :], data[1, :]))"
      ],
      "execution_count": 16,
      "outputs": [
        {
          "output_type": "stream",
          "text": [
            "[[1.       0.963634]\n",
            " [0.963634 1.      ]]\n",
            "[[1.       0.963634]\n",
            " [0.963634 1.      ]]\n",
            "[[1.       0.963634]\n",
            " [0.963634 1.      ]]\n"
          ],
          "name": "stdout"
        }
      ]
    },
    {
      "cell_type": "code",
      "metadata": {
        "id": "9FGKmmWa-FZp",
        "colab_type": "code",
        "colab": {
          "base_uri": "https://localhost:8080/",
          "height": 118
        },
        "outputId": "7b77daf5-3cef-458b-cba7-f95ab87c6d0e"
      },
      "source": [
        "for s in (1, 10, 100):\n",
        "    data_tmp = np.array(run_simulation(seed=s))\n",
        "    print(np.corrcoef(data_tmp[0, :], data[1, :]))"
      ],
      "execution_count": 17,
      "outputs": [
        {
          "output_type": "stream",
          "text": [
            "[[ 1.         -0.01446179]\n",
            " [-0.01446179  1.        ]]\n",
            "[[1.         0.01283996]\n",
            " [0.01283996 1.        ]]\n",
            "[[ 1.         -0.00260768]\n",
            " [-0.00260768  1.        ]]\n"
          ],
          "name": "stdout"
        }
      ]
    },
    {
      "cell_type": "code",
      "metadata": {
        "id": "ziWgi9m20riD",
        "colab_type": "code",
        "colab": {
          "base_uri": "https://localhost:8080/",
          "height": 34
        },
        "outputId": "e040822a-e381-4f75-a49a-d5e4144f08bf"
      },
      "source": [
        "# Pick different starting prices, e.g 10, 1000, 10000 for Bob and Alice. \n",
        "# Does the joint distribution of the two prices depend on these parameters?\n",
        "POSSIBLE_ANSWERS = {\n",
        "    0: 'Depends on random seed and starting prices', \n",
        "    1: 'Depends only on random seed',\n",
        "    2: 'Depends only on starting prices',\n",
        "    3: 'Does not depend on random seed and starting prices'\n",
        "}\n",
        "\n",
        "idx = 3 ### TYPE THE INDEX OF THE CORRECT ANSWER HERE ###\n",
        "answer = POSSIBLE_ANSWERS[idx]\n",
        "grader.submit_simulation_depends(answer)"
      ],
      "execution_count": 18,
      "outputs": [
        {
          "output_type": "stream",
          "text": [
            "Current answer for task 1.4 (depends on the random data or not) is: Does not depend on random seed and starting prices\n"
          ],
          "name": "stdout"
        }
      ]
    },
    {
      "cell_type": "markdown",
      "metadata": {
        "collapsed": true,
        "id": "IFunhEic0riF",
        "colab_type": "text"
      },
      "source": [
        "## Task 2. Logistic regression with PyMC3\n",
        "\n",
        "Logistic regression is a powerful model that allows you to analyze how a set of features affects some binary target label. Posterior distribution over the weights gives us an estimation of the influence of each particular feature on the probability of the target being equal to one. But most importantly, posterior distribution gives us the interval estimates for each weight of the model. This is very important for data analysis when you want to not only provide a good model but also estimate the uncertainty of your conclusions.\n",
        "\n",
        "In this task, we will learn how to use PyMC3 library to perform approximate Bayesian inference for logistic regression.\n",
        "\n",
        "This part of the assignment is based on the logistic regression tutorial by Peadar Coyle and J. Benjamin Cook."
      ]
    },
    {
      "cell_type": "markdown",
      "metadata": {
        "id": "zot7yw_y0riF",
        "colab_type": "text"
      },
      "source": [
        "### Logistic regression.\n",
        "\n",
        "The problem here is to model how the probability that a person has salary $\\geq$ \\\\$50K is affected by his/her age, education, sex and other features.\n",
        "\n",
        "Let $y_i = 1$ if i-th person's salary is $\\geq$ \\\\$50K and $y_i = 0$ otherwise. Let $x_{ij}$ be $j$-th feature of $i$-th person.\n",
        "\n",
        "Logistic regression models this probabilty in the following way:\n",
        "\n",
        "$$p(y_i = 1 \\mid \\beta) = \\sigma (\\beta_1 x_{i1} + \\beta_2 x_{i2} + \\dots + \\beta_k x_{ik} ), $$\n",
        "\n",
        "where $\\sigma(t) = \\frac1{1 + e^{-t}}$"
      ]
    },
    {
      "cell_type": "markdown",
      "metadata": {
        "id": "meNRtZli0riG",
        "colab_type": "text"
      },
      "source": [
        "#### Odds ratio.\n",
        "Let's try to answer the following question: does the gender of a person affects his or her salary? To do it we will use the concept of *odds*.\n",
        "\n",
        "If we have a binary random variable $y$ (which may indicate whether a person makes \\\\$50K) and if the probabilty of the positive outcome $p(y = 1)$ is for example 0.8, we will say that the *odds* are 4 to 1 (or just 4 for short), because succeding is 4 time more likely than failing $\\frac{p(y = 1)}{p(y = 0)} = \\frac{0.8}{0.2} = 4$.\n",
        "\n",
        "Now, let's return to the effect of gender on the salary. Let's compute the **ratio** between the odds of a male having salary $\\geq $ \\\\$50K and the odds of a female (with the same level of education, experience and everything else) having salary $\\geq$ \\\\$50K. The first feature of each person in the dataset is gender. Specifically, $x_{i1} = 0$ if the person is female and $x_{i1} = 1$ otherwise. Consider two people $i$ and $j$ having all but one features the same with the only difference in $x_{i1} \\neq x_{j1}$.\n",
        "\n",
        "If the logistic regression model above estimates the probabilities exactly, the odds for a male will be (check it!):\n",
        "$$\n",
        "\\frac{p(y_i = 1 \\mid x_{i1}=1, x_{i2}, \\ldots, x_{ik})}{p(y_i = 0 \\mid x_{i1}=1, x_{i2}, \\ldots, x_{ik})} = \\frac{\\sigma(\\beta_1 + \\beta_2 x_{i2} + \\ldots)}{1 - \\sigma(\\beta_1 + \\beta_2 x_{i2} + \\ldots)} = \\exp(\\beta_1 + \\beta_2 x_{i2} + \\ldots)\n",
        "$$\n",
        "\n",
        "Now the ratio of the male and female odds will be:\n",
        "$$\n",
        "\\frac{\\exp(\\beta_1 \\cdot 1 + \\beta_2 x_{i2} + \\ldots)}{\\exp(\\beta_1 \\cdot 0 + \\beta_2 x_{i2} + \\ldots)} = \\exp(\\beta_1)\n",
        "$$\n",
        "\n",
        "So given the correct logistic regression model, we can estimate odds ratio for some feature (gender in this example) by just looking at the corresponding coefficient. But of course, even if all the logistic regression assumptions are met we cannot estimate the coefficient exactly from real-world data, it's just too noisy. So it would be really nice to build an interval estimate, which would tell us something along the lines \"with probability 0.95 the odds ratio is greater than 0.8 and less than 1.2, so we cannot conclude that there is any gender discrimination in the salaries\" (or vice versa, that \"with probability 0.95 the odds ratio is greater than 1.5 and less than 1.9 and the discrimination takes place because a male has at least 1.5 higher probability to get >$50k than a female with the same level of education, age, etc.\"). In Bayesian statistics, this interval estimate is called *credible interval*.\n",
        "\n",
        "Unfortunately, it's impossible to compute this credible interval analytically. So let's use MCMC for that!\n",
        "\n",
        "#### Credible interval\n",
        "A credible interval for the value of $\\exp(\\beta_1)$ is an interval $[a, b]$ such that $p(a \\leq \\exp(\\beta_1) \\leq b \\mid X_{\\text{train}}, y_{\\text{train}})$ is $0.95$ (or some other predefined value). To compute the interval, we need access to the posterior distribution $p(\\exp(\\beta_1) \\mid X_{\\text{train}}, y_{\\text{train}})$.\n",
        "\n",
        "Lets for simplicity focus on the posterior on the parameters $p(\\beta_1 \\mid X_{\\text{train}}, y_{\\text{train}})$ since if we compute it, we can always find $[a, b]$ such that $p(\\log a \\leq \\beta_1 \\leq \\log b \\mid X_{\\text{train}}, y_{\\text{train}}) = p(a \\leq \\exp(\\beta_1) \\leq b \\mid X_{\\text{train}}, y_{\\text{train}}) = 0.95$\n"
      ]
    },
    {
      "cell_type": "markdown",
      "metadata": {
        "id": "BQ7l7XAW0riH",
        "colab_type": "text"
      },
      "source": [
        "### Task 2.1 MAP inference"
      ]
    },
    {
      "cell_type": "markdown",
      "metadata": {
        "id": "WtyaxTGP0riI",
        "colab_type": "text"
      },
      "source": [
        "Let's read the dataset. This is a post-processed version of the [UCI Adult dataset](http://archive.ics.uci.edu/ml/datasets/Adult)."
      ]
    },
    {
      "cell_type": "code",
      "metadata": {
        "id": "nqiJdTdL0riI",
        "colab_type": "code",
        "colab": {
          "base_uri": "https://localhost:8080/",
          "height": 195
        },
        "outputId": "7a4c5b4a-fd28-4ed5-f06b-9f76ffff1df9"
      },
      "source": [
        "data = pd.read_csv(\"adult_us_postprocessed.csv\")\n",
        "data.head()"
      ],
      "execution_count": 19,
      "outputs": [
        {
          "output_type": "execute_result",
          "data": {
            "text/html": [
              "<div>\n",
              "<style scoped>\n",
              "    .dataframe tbody tr th:only-of-type {\n",
              "        vertical-align: middle;\n",
              "    }\n",
              "\n",
              "    .dataframe tbody tr th {\n",
              "        vertical-align: top;\n",
              "    }\n",
              "\n",
              "    .dataframe thead th {\n",
              "        text-align: right;\n",
              "    }\n",
              "</style>\n",
              "<table border=\"1\" class=\"dataframe\">\n",
              "  <thead>\n",
              "    <tr style=\"text-align: right;\">\n",
              "      <th></th>\n",
              "      <th>sex</th>\n",
              "      <th>age</th>\n",
              "      <th>educ</th>\n",
              "      <th>hours</th>\n",
              "      <th>income_more_50K</th>\n",
              "    </tr>\n",
              "  </thead>\n",
              "  <tbody>\n",
              "    <tr>\n",
              "      <th>0</th>\n",
              "      <td>Male</td>\n",
              "      <td>39</td>\n",
              "      <td>13</td>\n",
              "      <td>40</td>\n",
              "      <td>0</td>\n",
              "    </tr>\n",
              "    <tr>\n",
              "      <th>1</th>\n",
              "      <td>Male</td>\n",
              "      <td>50</td>\n",
              "      <td>13</td>\n",
              "      <td>13</td>\n",
              "      <td>0</td>\n",
              "    </tr>\n",
              "    <tr>\n",
              "      <th>2</th>\n",
              "      <td>Male</td>\n",
              "      <td>38</td>\n",
              "      <td>9</td>\n",
              "      <td>40</td>\n",
              "      <td>0</td>\n",
              "    </tr>\n",
              "    <tr>\n",
              "      <th>3</th>\n",
              "      <td>Male</td>\n",
              "      <td>53</td>\n",
              "      <td>7</td>\n",
              "      <td>40</td>\n",
              "      <td>0</td>\n",
              "    </tr>\n",
              "    <tr>\n",
              "      <th>4</th>\n",
              "      <td>Female</td>\n",
              "      <td>28</td>\n",
              "      <td>13</td>\n",
              "      <td>40</td>\n",
              "      <td>0</td>\n",
              "    </tr>\n",
              "  </tbody>\n",
              "</table>\n",
              "</div>"
            ],
            "text/plain": [
              "       sex  age  educ  hours  income_more_50K\n",
              "0     Male   39    13     40                0\n",
              "1     Male   50    13     13                0\n",
              "2     Male   38     9     40                0\n",
              "3     Male   53     7     40                0\n",
              "4   Female   28    13     40                0"
            ]
          },
          "metadata": {
            "tags": []
          },
          "execution_count": 19
        }
      ]
    },
    {
      "cell_type": "markdown",
      "metadata": {
        "id": "GUV-ICw30riK",
        "colab_type": "text"
      },
      "source": [
        "Each row of the dataset is a person with his (her) features. The last column is the target variable $y$. One indicates that this person's annual salary is more than $50K.\n",
        "\n",
        "First of all let's set up a Bayesian logistic regression model (i.e. define priors on the parameters $\\alpha$ and $\\beta$ of the model) that predicts the value of \"income_more_50K\" based on person's age and education:\n",
        "\n",
        "$$\n",
        "p(y = 1 \\mid \\alpha, \\beta_1, \\beta_2) = \\sigma(\\alpha + \\beta_1 x_1 + \\beta_2 x_2) \\\\ \n",
        "\\alpha \\sim N(0, 100^2) \\\\\n",
        "\\beta_1 \\sim N(0, 100^2) \\\\\n",
        "\\beta_2 \\sim N(0, 100^2), \\\\\n",
        "$$\n",
        "\n",
        "where $x_1$ is a person's age, $x_2$ is his/her level of education, y indicates his/her level of income, $\\alpha$, $\\beta_1$ and $\\beta_2$ are paramters of the model."
      ]
    },
    {
      "cell_type": "code",
      "metadata": {
        "id": "gFdQqnNI0riL",
        "colab_type": "code",
        "colab": {
          "base_uri": "https://localhost:8080/",
          "height": 121
        },
        "outputId": "950d4b4a-7d30-4f5f-ee6f-f5f25ceea7c6"
      },
      "source": [
        "with pm.Model() as manual_logistic_model:\n",
        "    # Declare pymc random variables for logistic regression coefficients with uninformative \n",
        "    # prior distributions N(0, 100^2) on each weight using pm.Normal. \n",
        "    # Don't forget to give each variable a unique name.\n",
        "    \n",
        "    #### YOUR CODE HERE ####\n",
        "    alpha = pm.Normal('alpha', mu=0, sd=100)\n",
        "    beta_age = pm.Normal('beta_age', mu=0, sd=100)\n",
        "    beta_education = pm.Normal('beta_education', mu=0, sd=100)\n",
        "    ### END OF YOUR CODE ###\n",
        "    \n",
        "    # Thansform these random variables into vector of probabilities p(y_i=1) using logistic regression model specified \n",
        "    # above. PyMC random variables are theano shared variables and support simple mathematical operations.\n",
        "    # For example:\n",
        "    # z = pm.Normal('x', 0, 1) * np.array([1, 2, 3]) + pm.Normal('y', 0, 1) * np.array([4, 5, 6])`\n",
        "    # is a correct PyMC expression.\n",
        "    # Use pm.invlogit for the sigmoid function.\n",
        "    \n",
        "    #### YOUR CODE HERE ####\n",
        "    z = alpha + beta_age * np.array(data['age']) + beta_education * np.array(data['educ'])\n",
        "    a = pm.invlogit(z)\n",
        "    ### END OF YOUR CODE ###\n",
        "    \n",
        "    # Declare PyMC Bernoulli random vector with probability of success equal to the corresponding value\n",
        "    # given by the sigmoid function.\n",
        "    # Supply target vector using \"observed\" argument in the constructor.\n",
        "\n",
        "    #### YOUR CODE HERE ####\n",
        "    y_obs = pm.Bernoulli('y_obs', p=a, observed=data['income_more_50K'])\n",
        "    ### END OF YOUR CODE ###\n",
        "    \n",
        "    # Use pm.find_MAP() to find the maximum a-posteriori estimate for the vector of logistic regression weights.\n",
        "    map_estimate = pm.find_MAP()\n",
        "    print(map_estimate)\n",
        "\n"
      ],
      "execution_count": 22,
      "outputs": [
        {
          "output_type": "stream",
          "text": [
            "INFO (theano.gof.compilelock): Refreshing lock /root/.theano/compiledir_Linux-4.14.137+-x86_64-with-Ubuntu-18.04-bionic-x86_64-3.6.9-64/lock_dir/lock\n",
            "/usr/local/lib/python3.6/dist-packages/pymc3/tuning/starting.py:61: UserWarning: find_MAP should not be used to initialize the NUTS sampler, simply call pymc3.sample() and it will automatically initialize NUTS in a better way.\n",
            "  warnings.warn('find_MAP should not be used to initialize the NUTS sampler, simply call pymc3.sample() and it will automatically initialize NUTS in a better way.')\n",
            "logp = -18,844, ||grad|| = 57,293: 100%|██████████| 30/30 [00:00<00:00, 101.33it/s] \n"
          ],
          "name": "stderr"
        },
        {
          "output_type": "stream",
          "text": [
            "{'alpha': array(-6.74811904), 'beta_age': array(0.04348316), 'beta_education': array(0.36210803)}\n"
          ],
          "name": "stdout"
        }
      ]
    },
    {
      "cell_type": "markdown",
      "metadata": {
        "id": "1-_Rcedb0riN",
        "colab_type": "text"
      },
      "source": [
        "Sumbit MAP estimations of corresponding coefficients:"
      ]
    },
    {
      "cell_type": "code",
      "metadata": {
        "id": "nz4M6XQU0riO",
        "colab_type": "code",
        "colab": {
          "base_uri": "https://localhost:8080/",
          "height": 154
        },
        "outputId": "e6994d46-f611-4756-f4b1-e5f2d0b0e99b"
      },
      "source": [
        "with pm.Model() as logistic_model:\n",
        "    # There's a simpler interface for generalized linear models in pymc3. \n",
        "    # Try to train the same model using pm.glm.GLM.from_formula.\n",
        "    # Do not forget to specify that the target variable is binary (and hence follows Binomial distribution).\n",
        "    \n",
        "    #### YOUR CODE HERE ####\n",
        "    pm.glm.GLM.from_formula('income_more_50K ~ age + educ', data, family=pm.glm.families.Binomial())\n",
        "    ### END OF YOUR CODE ###\n",
        "    map_estimate = pm.find_MAP()\n",
        "    print(map_estimate)"
      ],
      "execution_count": 23,
      "outputs": [
        {
          "output_type": "stream",
          "text": [
            "INFO (theano.gof.compilelock): Refreshing lock /root/.theano/compiledir_Linux-4.14.137+-x86_64-with-Ubuntu-18.04-bionic-x86_64-3.6.9-64/lock_dir/lock\n",
            "/usr/local/lib/python3.6/dist-packages/pymc3/tuning/starting.py:61: UserWarning: find_MAP should not be used to initialize the NUTS sampler, simply call pymc3.sample() and it will automatically initialize NUTS in a better way.\n",
            "  warnings.warn('find_MAP should not be used to initialize the NUTS sampler, simply call pymc3.sample() and it will automatically initialize NUTS in a better way.')\n",
            "WARNING (theano.tensor.blas): We did not find a dynamic library in the library_dir of the library we use for blas. If you use ATLAS, make sure to compile it with dynamics library.\n",
            "WARNING (theano.tensor.blas): We did not find a dynamic library in the library_dir of the library we use for blas. If you use ATLAS, make sure to compile it with dynamics library.\n",
            "logp = -15,131, ||grad|| = 0.024014: 100%|██████████| 32/32 [00:00<00:00, 120.40it/s]  "
          ],
          "name": "stderr"
        },
        {
          "output_type": "stream",
          "text": [
            "{'Intercept': array(-6.7480998), 'age': array(0.04348259), 'educ': array(0.36210894)}\n"
          ],
          "name": "stdout"
        },
        {
          "output_type": "stream",
          "text": [
            "\n"
          ],
          "name": "stderr"
        }
      ]
    },
    {
      "cell_type": "code",
      "metadata": {
        "scrolled": true,
        "id": "AO4NZfWC0riQ",
        "colab_type": "code",
        "colab": {
          "base_uri": "https://localhost:8080/",
          "height": 50
        },
        "outputId": "73e4946d-d675-4b7f-bec7-406c84fb114c"
      },
      "source": [
        "beta_age_coefficient = 0.04348259 ### TYPE MAP ESTIMATE OF THE AGE COEFFICIENT HERE ###\n",
        "beta_education_coefficient = 0.36210894### TYPE MAP ESTIMATE OF THE EDUCATION COEFFICIENT HERE ###\n",
        "grader.submit_pymc_map_estimates(beta_age_coefficient, beta_education_coefficient)"
      ],
      "execution_count": 24,
      "outputs": [
        {
          "output_type": "stream",
          "text": [
            "Current answer for task 2.1 (MAP for age coef) is: 0.04348259\n",
            "Current answer for task 2.1 (MAP for aducation coef) is: 0.36210894\n"
          ],
          "name": "stdout"
        }
      ]
    },
    {
      "cell_type": "markdown",
      "metadata": {
        "id": "8jpSZBm90riS",
        "colab_type": "text"
      },
      "source": [
        "### Task 2.2 MCMC"
      ]
    },
    {
      "cell_type": "markdown",
      "metadata": {
        "id": "ClDU9rQz0riS",
        "colab_type": "text"
      },
      "source": [
        "To find credible regions let's perform MCMC inference."
      ]
    },
    {
      "cell_type": "code",
      "metadata": {
        "id": "rtb2tQKb0riT",
        "colab_type": "code",
        "colab": {}
      },
      "source": [
        "# You will need the following function to visualize the sampling process.\n",
        "# You don't need to change it.\n",
        "def plot_traces(traces, burnin=200):\n",
        "    ''' \n",
        "    Convenience function:\n",
        "    Plot traces with overlaid means and values\n",
        "    '''\n",
        "    \n",
        "    ax = pm.traceplot(traces[burnin:], figsize=(12,len(traces.varnames)*1.5),\n",
        "        lines={k: v['mean'] for k, v in pm.summary(traces[burnin:]).iterrows()})\n",
        "\n",
        "    for i, mn in enumerate(pm.summary(traces[burnin:])['mean']):\n",
        "        ax[i,0].annotate('{:.2f}'.format(mn), xy=(mn,0), xycoords='data'\n",
        "                    ,xytext=(5,10), textcoords='offset points', rotation=90\n",
        "                    ,va='bottom', fontsize='large', color='#AA0022')"
      ],
      "execution_count": 0,
      "outputs": []
    },
    {
      "cell_type": "markdown",
      "metadata": {
        "id": "vjrQm2sg0riW",
        "colab_type": "text"
      },
      "source": [
        "#### Metropolis-Hastings\n",
        "Let's use the Metropolis-Hastings algorithm for finding the samples from the posterior distribution.\n",
        "\n",
        "Once you wrote the code, explore the hyperparameters of Metropolis-Hastings such as the proposal distribution variance to speed up the convergence. You can use `plot_traces` function in the next cell to visually inspect the convergence.\n",
        "\n",
        "You may also use MAP-estimate to initialize the sampling scheme to speed things up. This will make the warmup (burn-in) period shorter since you will start from a probable point."
      ]
    },
    {
      "cell_type": "code",
      "metadata": {
        "id": "ATeEwOxiDf9B",
        "colab_type": "code",
        "colab": {
          "base_uri": "https://localhost:8080/",
          "height": 195
        },
        "outputId": "3e3c30f3-6f84-4675-c593-936d9be9648c"
      },
      "source": [
        "data['agesq'] = data['age'] ** 2\n",
        "data.head()"
      ],
      "execution_count": 29,
      "outputs": [
        {
          "output_type": "execute_result",
          "data": {
            "text/html": [
              "<div>\n",
              "<style scoped>\n",
              "    .dataframe tbody tr th:only-of-type {\n",
              "        vertical-align: middle;\n",
              "    }\n",
              "\n",
              "    .dataframe tbody tr th {\n",
              "        vertical-align: top;\n",
              "    }\n",
              "\n",
              "    .dataframe thead th {\n",
              "        text-align: right;\n",
              "    }\n",
              "</style>\n",
              "<table border=\"1\" class=\"dataframe\">\n",
              "  <thead>\n",
              "    <tr style=\"text-align: right;\">\n",
              "      <th></th>\n",
              "      <th>sex</th>\n",
              "      <th>age</th>\n",
              "      <th>educ</th>\n",
              "      <th>hours</th>\n",
              "      <th>income_more_50K</th>\n",
              "      <th>agesq</th>\n",
              "    </tr>\n",
              "  </thead>\n",
              "  <tbody>\n",
              "    <tr>\n",
              "      <th>0</th>\n",
              "      <td>Male</td>\n",
              "      <td>39</td>\n",
              "      <td>13</td>\n",
              "      <td>40</td>\n",
              "      <td>0</td>\n",
              "      <td>1521</td>\n",
              "    </tr>\n",
              "    <tr>\n",
              "      <th>1</th>\n",
              "      <td>Male</td>\n",
              "      <td>50</td>\n",
              "      <td>13</td>\n",
              "      <td>13</td>\n",
              "      <td>0</td>\n",
              "      <td>2500</td>\n",
              "    </tr>\n",
              "    <tr>\n",
              "      <th>2</th>\n",
              "      <td>Male</td>\n",
              "      <td>38</td>\n",
              "      <td>9</td>\n",
              "      <td>40</td>\n",
              "      <td>0</td>\n",
              "      <td>1444</td>\n",
              "    </tr>\n",
              "    <tr>\n",
              "      <th>3</th>\n",
              "      <td>Male</td>\n",
              "      <td>53</td>\n",
              "      <td>7</td>\n",
              "      <td>40</td>\n",
              "      <td>0</td>\n",
              "      <td>2809</td>\n",
              "    </tr>\n",
              "    <tr>\n",
              "      <th>4</th>\n",
              "      <td>Female</td>\n",
              "      <td>28</td>\n",
              "      <td>13</td>\n",
              "      <td>40</td>\n",
              "      <td>0</td>\n",
              "      <td>784</td>\n",
              "    </tr>\n",
              "  </tbody>\n",
              "</table>\n",
              "</div>"
            ],
            "text/plain": [
              "       sex  age  educ  hours  income_more_50K  agesq\n",
              "0     Male   39    13     40                0   1521\n",
              "1     Male   50    13     13                0   2500\n",
              "2     Male   38     9     40                0   1444\n",
              "3     Male   53     7     40                0   2809\n",
              "4   Female   28    13     40                0    784"
            ]
          },
          "metadata": {
            "tags": []
          },
          "execution_count": 29
        }
      ]
    },
    {
      "cell_type": "code",
      "metadata": {
        "id": "VYtN91k30riX",
        "colab_type": "code",
        "colab": {
          "base_uri": "https://localhost:8080/",
          "height": 252
        },
        "outputId": "d489d750-17fc-4b6b-9634-5e984685c592"
      },
      "source": [
        "with pm.Model() as logistic_model:\n",
        "    # Since it is unlikely that the dependency between the age and salary is linear, we will include age squared\n",
        "    # into features so that we can model dependency that favors certain ages.\n",
        "    # Train Bayesian logistic regression model on the following features: sex, age, age^2, educ, hours\n",
        "    # Use pm.sample to run MCMC to train this model.\n",
        "    # To specify the particular sampler method (Metropolis-Hastings) to pm.sample,\n",
        "    # use `pm.Metropolis`.\n",
        "    # Train your model for 400 samples.\n",
        "    # Save the output of pm.sample to a variable: this is the trace of the sampling procedure and will be used\n",
        "    # to estimate the statistics of the posterior distribution.\n",
        "    \n",
        "    #### YOUR CODE HERE ####\n",
        "    pm.glm.GLM.from_formula('income_more_50K ~ sex + age + agesq + educ + hours', data, family=pm.glm.families.Binomial())\n",
        "    with logistic_model:\n",
        "        trace = pm.sample(400, step=pm.Metropolis())\n",
        "    ### END OF YOUR CODE ###"
      ],
      "execution_count": 30,
      "outputs": [
        {
          "output_type": "stream",
          "text": [
            "INFO (theano.gof.compilelock): Refreshing lock /root/.theano/compiledir_Linux-4.14.137+-x86_64-with-Ubuntu-18.04-bionic-x86_64-3.6.9-64/lock_dir/lock\n",
            "Only 400 samples in chain.\n",
            "Sequential sampling (2 chains in 1 job)\n",
            "CompoundStep\n",
            ">Metropolis: [hours]\n",
            ">Metropolis: [educ]\n",
            ">Metropolis: [agesq]\n",
            ">Metropolis: [age]\n",
            ">Metropolis: [sex[T. Male]]\n",
            ">Metropolis: [Intercept]\n",
            "100%|██████████| 900/900 [01:03<00:00, 14.00it/s]\n",
            "100%|██████████| 900/900 [01:04<00:00, 14.22it/s]\n",
            "The gelman-rubin statistic is larger than 1.4 for some parameters. The sampler did not converge.\n",
            "The estimated number of effective samples is smaller than 200 for some parameters.\n"
          ],
          "name": "stderr"
        }
      ]
    },
    {
      "cell_type": "code",
      "metadata": {
        "id": "XGI-4Ate0ric",
        "colab_type": "code",
        "colab": {}
      },
      "source": [
        "#plot_traces(trace)"
      ],
      "execution_count": 0,
      "outputs": []
    },
    {
      "cell_type": "markdown",
      "metadata": {
        "id": "yPPHM7-L0rig",
        "colab_type": "text"
      },
      "source": [
        "#### NUTS sampler\n",
        "Use pm.sample without specifying a particular sampling method (pymc3 will choose it automatically).\n",
        "The sampling algorithm that will be used in this case is NUTS, which is a form of Hamiltonian Monte Carlo, in which parameters are tuned automatically. This is an advanced method that we hadn't cover in the lectures, but it usually converges faster and gives less correlated samples compared to vanilla Metropolis-Hastings."
      ]
    },
    {
      "cell_type": "code",
      "metadata": {
        "id": "ILw8cAm20rig",
        "colab_type": "code",
        "colab": {
          "base_uri": "https://localhost:8080/",
          "height": 134
        },
        "outputId": "98081258-8d0d-444d-a764-8cd2a17f9c11"
      },
      "source": [
        "with pm.Model() as logistic_model:\n",
        "    # Train Bayesian logistic regression model on the following features: sex, age, age_squared, educ, hours\n",
        "    # Use pm.sample to run MCMC to train this model.\n",
        "    # Train your model for 400 samples.\n",
        "    # Training can take a while, so relax and wait :)\n",
        "    \n",
        "    #### YOUR CODE HERE ####\n",
        "    pm.glm.GLM.from_formula('income_more_50K ~ sex + age + agesq + educ + hours', data, family=pm.glm.families.Binomial())\n",
        "    with logistic_model:\n",
        "        trace = pm.sample(4000, step=pm.NUTS())\n",
        "    ### END OF YOUR CODE ###"
      ],
      "execution_count": 36,
      "outputs": [
        {
          "output_type": "stream",
          "text": [
            "INFO (theano.gof.compilelock): Refreshing lock /root/.theano/compiledir_Linux-4.14.137+-x86_64-with-Ubuntu-18.04-bionic-x86_64-3.6.9-64/lock_dir/lock\n",
            "Sequential sampling (2 chains in 1 job)\n",
            "NUTS: [hours, educ, agesq, age, sex[T. Male], Intercept]\n",
            "100%|██████████| 4500/4500 [54:21<00:00,  1.16it/s]\n",
            "100%|██████████| 4500/4500 [52:40<00:00,  1.59it/s]\n",
            "The acceptance probability does not match the target. It is 0.9447557378461597, but should be close to 0.8. Try to increase the number of tuning steps.\n",
            "The acceptance probability does not match the target. It is 0.9436481403850271, but should be close to 0.8. Try to increase the number of tuning steps.\n"
          ],
          "name": "stderr"
        }
      ]
    },
    {
      "cell_type": "code",
      "metadata": {
        "id": "QN6tw9xm0rii",
        "colab_type": "code",
        "colab": {}
      },
      "source": [
        "#plot_traces(trace)"
      ],
      "execution_count": 0,
      "outputs": []
    },
    {
      "cell_type": "markdown",
      "metadata": {
        "id": "8W1qMcp-0ril",
        "colab_type": "text"
      },
      "source": [
        "#### Estimating the odds ratio\n",
        "Now, let's build the posterior distribution on the odds ratio given the dataset (approximated by MCMC)."
      ]
    },
    {
      "cell_type": "code",
      "metadata": {
        "id": "ulGTrLjg0rim",
        "colab_type": "code",
        "colab": {
          "base_uri": "https://localhost:8080/",
          "height": 330
        },
        "outputId": "2076cc7e-9c79-46e3-967d-832d7b956486"
      },
      "source": [
        "# We don't need to use a large burn-in here, since we initialize sampling\n",
        "# from a good point (from our approximation of the most probable\n",
        "# point (MAP) to be more precise).\n",
        "burnin = 100\n",
        "b = trace['sex[T. Male]'][burnin:]\n",
        "plt.hist(np.exp(b), bins=20, normed=True)\n",
        "plt.xlabel(\"Odds Ratio\")\n",
        "plt.show()"
      ],
      "execution_count": 38,
      "outputs": [
        {
          "output_type": "stream",
          "text": [
            "/usr/local/lib/python3.6/dist-packages/ipykernel_launcher.py:3: MatplotlibDeprecationWarning: \n",
            "The 'normed' kwarg was deprecated in Matplotlib 2.1 and will be removed in 3.1. Use 'density' instead.\n",
            "  This is separate from the ipykernel package so we can avoid doing imports until\n"
          ],
          "name": "stderr"
        },
        {
          "output_type": "display_data",
          "data": {
            "image/png": "[encoded data removed]",
            "text/plain": [
              "<Figure size 432x288 with 1 Axes>"
            ]
          },
          "metadata": {
            "tags": []
          }
        }
      ]
    },
    {
      "cell_type": "markdown",
      "metadata": {
        "id": "u2uCsvmA0rin",
        "colab_type": "text"
      },
      "source": [
        "\n",
        "Finally, we can find a credible interval  (recall that credible intervals are Bayesian and confidence intervals are frequentist) for this quantity. This may be the best part about Bayesian statistics: we get to interpret credibility intervals the way we've always wanted to interpret them. We are 95% confident that the odds ratio lies within our interval!"
      ]
    },
    {
      "cell_type": "code",
      "metadata": {
        "id": "CXm_Ny7o0rio",
        "colab_type": "code",
        "colab": {
          "base_uri": "https://localhost:8080/",
          "height": 34
        },
        "outputId": "4dee6178-638b-41b6-b10e-723d552d71a2"
      },
      "source": [
        "lb, ub = np.percentile(b, 2.5), np.percentile(b, 97.5)\n",
        "print(\"P(%.3f < Odds Ratio < %.3f) = 0.95\" % (np.exp(lb), np.exp(ub)))"
      ],
      "execution_count": 39,
      "outputs": [
        {
          "output_type": "stream",
          "text": [
            "P(3.006 < Odds Ratio < 3.494) = 0.95\n"
          ],
          "name": "stdout"
        }
      ]
    },
    {
      "cell_type": "code",
      "metadata": {
        "id": "3fEYpE-60riq",
        "colab_type": "code",
        "colab": {
          "base_uri": "https://localhost:8080/",
          "height": 50
        },
        "outputId": "6abc90d9-5dfa-4a43-b45d-024c70d9ee72"
      },
      "source": [
        "# Submit the obtained credible interval.\n",
        "grader.submit_pymc_odds_ratio_interval(np.exp(lb), np.exp(ub))"
      ],
      "execution_count": 40,
      "outputs": [
        {
          "output_type": "stream",
          "text": [
            "Current answer for task 2.2 (credible interval lower bound) is: 3.0062288941815507\n",
            "Current answer for task 2.2 (credible interval upper bound) is: 3.4935454116362323\n"
          ],
          "name": "stdout"
        }
      ]
    },
    {
      "cell_type": "markdown",
      "metadata": {
        "id": "VoWm5SQe0ris",
        "colab_type": "text"
      },
      "source": [
        "### Task 2.3 interpreting the results"
      ]
    },
    {
      "cell_type": "code",
      "metadata": {
        "id": "F4kU3ffL0rit",
        "colab_type": "code",
        "colab": {
          "base_uri": "https://localhost:8080/",
          "height": 54
        },
        "outputId": "ebf2e8d7-d1cb-44ed-c896-121b19aad453"
      },
      "source": [
        "# Does the gender affects salary in the provided dataset?\n",
        "# (Note that the data is from 1996 and maybe not representative\n",
        "# of the current situation in the world.)\n",
        "POSSIBLE_ANSWERS = {\n",
        "    0: 'No, there is certainly no discrimination',\n",
        "    1: 'We cannot say for sure',\n",
        "    2: 'Yes, we are 95% sure that a female is *less* likely to get >$50K than a male with the same age, level of education, etc.', \n",
        "    3: 'Yes, we are 95% sure that a female is *more* likely to get >$50K than a male with the same age, level of education, etc.', \n",
        "}\n",
        "\n",
        "idx = 2 ### TYPE THE INDEX OF THE CORRECT ANSWER HERE ###\n",
        "answer = POSSIBLE_ANSWERS[idx]\n",
        "grader.submit_is_there_discrimination(answer)"
      ],
      "execution_count": 41,
      "outputs": [
        {
          "output_type": "stream",
          "text": [
            "Current answer for task 2.3 (does the data suggest gender discrimination?) is: Yes, we are 95% sure that a female is *less* likely to get >$50K than a male with the same age, level of education, etc.\n"
          ],
          "name": "stdout"
        }
      ]
    },
    {
      "cell_type": "markdown",
      "metadata": {
        "id": "VasmDNrL0riw",
        "colab_type": "text"
      },
      "source": [
        "# Authorization & Submission\n",
        "To submit assignment parts to Cousera platform, please, enter your e-mail and token into variables below. You can generate a token on this programming assignment's page. <b>Note:</b> The token expires 30 minutes after generation."
      ]
    },
    {
      "cell_type": "code",
      "metadata": {
        "id": "x8atNfiY0riw",
        "colab_type": "code",
        "colab": {
          "base_uri": "https://localhost:8080/",
          "height": 218
        },
        "outputId": "2f54c8e6-6923-4582-a05c-473e517a7d76"
      },
      "source": [
        "STUDENT_EMAIL = 'claudio.gaiaschi@gmail.com'\n",
        "STUDENT_TOKEN = 'Pxm1ClvilajTrf1K'\n",
        "grader.status()"
      ],
      "execution_count": 42,
      "outputs": [
        {
          "output_type": "stream",
          "text": [
            "You want to submit these numbers:\n",
            "Task 1.1 (Alice trajectory): 279.93428306022463  291.67686875834846\n",
            "Task 1.1 (Bob trajectory): 314.5384966605577  345.2425410740984\n",
            "Task 1.2 (Alice mean): 278.62821295463834\n",
            "Task 1.2 (Bob mean): 314.37642287694996\n",
            "Task 1.3 (Bob and Alice prices correlation): 0.9636340025161768\n",
            "Task 1.4 (depends on the random data or not): Does not depend on random seed and starting prices\n",
            "Task 2.1 (MAP for age coef): 0.04348259\n",
            "Task 2.1 (MAP for aducation coef): 0.36210894\n",
            "Task 2.2 (credible interval lower bound): 3.0062288941815507\n",
            "Task 2.2 (credible interval upper bound): 3.4935454116362323\n",
            "Task 2.3 (does the data suggest gender discrimination?): Yes, we are 95% sure that a female is *less* likely to get >$50K than a male with the same age, level of education, etc.\n"
          ],
          "name": "stdout"
        }
      ]
    },
    {
      "cell_type": "markdown",
      "metadata": {
        "id": "rhGrG8JS0ri0",
        "colab_type": "text"
      },
      "source": [
        "If you want to submit these answers, run cell below"
      ]
    },
    {
      "cell_type": "code",
      "metadata": {
        "id": "yb8aM6Gu0ri1",
        "colab_type": "code",
        "colab": {
          "base_uri": "https://localhost:8080/",
          "height": 34
        },
        "outputId": "6a1a5005-9bf9-4e88-8bcd-caefbf485e1d"
      },
      "source": [
        "grader.submit(STUDENT_EMAIL, STUDENT_TOKEN)"
      ],
      "execution_count": 43,
      "outputs": [
        {
          "output_type": "stream",
          "text": [
            "Submitted to Coursera platform. See results on assignment page!\n"
          ],
          "name": "stdout"
        }
      ]
    },
    {
      "cell_type": "markdown",
      "metadata": {
        "id": "FhPtRUHp0ri3",
        "colab_type": "text"
      },
      "source": [
        "# (Optional) generating videos of sampling process\n",
        "In this part you will generate videos showing the sampling process."
      ]
    },
    {
      "cell_type": "markdown",
      "metadata": {
        "id": "s5RsS9o-0ri4",
        "colab_type": "text"
      },
      "source": [
        "### Setting things up\n",
        "You don't need to modify the code below, it sets up the plotting functions. The code is based on [MCMC visualization tutorial](https://twiecki.github.io/blog/2014/01/02/visualizing-mcmc/)."
      ]
    },
    {
      "cell_type": "code",
      "metadata": {
        "id": "LvHDud3G0ri4",
        "colab_type": "code",
        "colab": {}
      },
      "source": [
        "from IPython.display import HTML\n",
        "\n",
        "# Number of MCMC iteration to animate.\n",
        "samples = 400\n",
        "\n",
        "figsize(6, 6)\n",
        "fig = plt.figure()\n",
        "s_width = (0.81, 1.29)\n",
        "a_width = (0.11, 0.39)\n",
        "samples_width = (0, samples)\n",
        "ax1 = fig.add_subplot(221, xlim=s_width, ylim=samples_width)\n",
        "ax2 = fig.add_subplot(224, xlim=samples_width, ylim=a_width)\n",
        "ax3 = fig.add_subplot(223, xlim=s_width, ylim=a_width,\n",
        "                      xlabel='male coef',\n",
        "                      ylabel='educ coef')\n",
        "fig.subplots_adjust(wspace=0.0, hspace=0.0)\n",
        "line1, = ax1.plot([], [], lw=1)\n",
        "line2, = ax2.plot([], [], lw=1)\n",
        "line3, = ax3.plot([], [], 'o', lw=2, alpha=.1)\n",
        "line4, = ax3.plot([], [], lw=1, alpha=.3)\n",
        "line5, = ax3.plot([], [], 'k', lw=1)\n",
        "line6, = ax3.plot([], [], 'k', lw=1)\n",
        "ax1.set_xticklabels([])\n",
        "ax2.set_yticklabels([])\n",
        "lines = [line1, line2, line3, line4, line5, line6]\n",
        "\n",
        "def init():\n",
        "    for line in lines:\n",
        "        line.set_data([], [])\n",
        "    return lines\n",
        "\n",
        "def animate(i):\n",
        "    with logistic_model:\n",
        "        if i == 0:\n",
        "            # Burnin\n",
        "            for j in range(samples): iter_sample.__next__() \n",
        "        trace = iter_sample.__next__()\n",
        "    line1.set_data(trace['sex[T. Male]'][::-1], range(len(trace['sex[T. Male]'])))\n",
        "    line2.set_data(range(len(trace['educ'])), trace['educ'][::-1])\n",
        "    line3.set_data(trace['sex[T. Male]'], trace['educ'])\n",
        "    line4.set_data(trace['sex[T. Male]'], trace['educ'])\n",
        "    male = trace['sex[T. Male]'][-1]\n",
        "    educ = trace['educ'][-1]\n",
        "    line5.set_data([male, male], [educ, a_width[1]])\n",
        "    line6.set_data([male, s_width[1]], [educ, educ])\n",
        "    return lines"
      ],
      "execution_count": 0,
      "outputs": []
    },
    {
      "cell_type": "markdown",
      "metadata": {
        "id": "mSBdvG-W0ri6",
        "colab_type": "text"
      },
      "source": [
        "## Animating Metropolis-Hastings"
      ]
    },
    {
      "cell_type": "code",
      "metadata": {
        "id": "9UWfjAsa0ri7",
        "colab_type": "code",
        "colab": {}
      },
      "source": [
        "with pm.Model() as logistic_model:\n",
        "    # Again define Bayesian logistic regression model on the following features: sex, age, age_squared, educ, hours\n",
        "    \n",
        "    #### YOUR CODE HERE ####\n",
        "    pm.glm.GLM.from_formula('income_more_50K ~ sex + age + agesq + educ + hours', data, family=pm.glm.families.Binomial())\n",
        "    ### END OF YOUR CODE ###\n",
        "    step = pm.Metropolis()\n",
        "    iter_sample = pm.iter_sample(2 * samples, step, start=map_estimate)\n",
        "anim = animation.FuncAnimation(fig, animate, init_func=init,\n",
        "                               frames=samples, interval=5, blit=True)\n",
        "HTML(anim.to_html5_video())\n",
        "# Note that generating the video may take a while."
      ],
      "execution_count": 0,
      "outputs": []
    },
    {
      "cell_type": "markdown",
      "metadata": {
        "id": "MpVGhw4G0ri8",
        "colab_type": "text"
      },
      "source": [
        "## Animating NUTS\n",
        "Now rerun the animation providing the NUTS sampling method as the step argument."
      ]
    },
    {
      "cell_type": "code",
      "metadata": {
        "id": "64cThGV60ri9",
        "colab_type": "code",
        "colab": {}
      },
      "source": [
        ""
      ],
      "execution_count": 0,
      "outputs": []
    }
  ]
}